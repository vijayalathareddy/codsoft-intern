{
  "nbformat": 4,
  "nbformat_minor": 0,
  "metadata": {
    "colab": {
      "provenance": [],
      "authorship_tag": "ABX9TyNzO3+u7yB3PvzT+DTg8Ss1",
      "include_colab_link": true
    },
    "kernelspec": {
      "name": "python3",
      "display_name": "Python 3"
    },
    "language_info": {
      "name": "python"
    }
  },
  "cells": [
    {
      "cell_type": "markdown",
      "metadata": {
        "id": "view-in-github",
        "colab_type": "text"
      },
      "source": [
        "<a href=\"https://colab.research.google.com/github/vijayalathareddy/codsoft-intern/blob/main/chatbot_with_rule_based_responses.ipynb\" target=\"_parent\"><img src=\"https://colab.research.google.com/assets/colab-badge.svg\" alt=\"Open In Colab\"/></a>"
      ]
    },
    {
      "cell_type": "code",
      "execution_count": null,
      "metadata": {
        "colab": {
          "base_uri": "https://localhost:8080/"
        },
        "id": "q_ecp04v-itI",
        "outputId": "e812a952-dd65-4146-d5d9-a3f8c7a7a8b0"
      },
      "outputs": [
        {
          "output_type": "stream",
          "name": "stdout",
          "text": [
            "welcome friend,this is chatfriend. your bestie\n",
            "you:hello\n",
            "chatbot: hey,welcome here.are u meeting me for the first time? yes,first time or no\n",
            "you:yes,first time\n",
            "chatbot: nice meeting you my friend. Hope we get along\n",
            "you:what's your name?\n",
            "chatbot: my name is chatfriend :)\n",
            "you:how is your day\n",
            "chatbot: my day is quite intresting chatting with new friends until now but just now my day has become happy now that i am chatting with you\n",
            "you:you are flattering me chatfriend\n",
            "chatbot: thank you my highness :)\n",
            "you:bye\n",
            "chatbot: you are going already(>_<). Alright goodbye (._.), have a wonderful day and don't forget to come back, i'm waiting for you\n"
          ]
        }
      ],
      "source": [
        "import random\n",
        "\n",
        "def chatbot_response(input_given):\n",
        "  responses = {\n",
        "      \"hello\": \"hey,welcome here.are u meeting me for the first time? yes,first time or no\",\n",
        "      \"yes,first time\": \"nice meeting you my friend. Hope we get along\",\n",
        "      \"what's your name?\": \"my name is chatfriend :)\",\n",
        "      \"how is your day\": \"my day is quite intresting chatting with new friends until now but just now my day has become happy now that i am chatting with you\",\n",
        "      \"you are flattering me chatfriend\": \"thank you my highness :)\",\n",
        "      \"bye\": \"you are going already(>_<). Alright goodbye (._.), have a wonderful day and don't forget to come back, i'm waiting for you\",\n",
        "  }\n",
        "\n",
        "  if input_given.lower() in responses:\n",
        "    return responses[input_given.lower()]\n",
        "  else:\n",
        "     \"none\"\n",
        "\n",
        "print(\"welcome friend,this is chatfriend. your bestie\")\n",
        "while True:\n",
        "    input_given= input(\"you:\")\n",
        "    if input_given.lower() == 'exit':\n",
        "        print(\"chatbot: goodbye!\")\n",
        "        break\n",
        "    else:\n",
        "       response = chatbot_response(input_given)\n",
        "       print(\"chatbot:\",response)"
      ]
    }
  ]
}