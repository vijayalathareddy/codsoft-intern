{
  "nbformat": 4,
  "nbformat_minor": 0,
  "metadata": {
    "colab": {
      "provenance": [],
      "authorship_tag": "ABX9TyMOczJv4q5JiskfQApsxYwr",
      "include_colab_link": true
    },
    "kernelspec": {
      "name": "python3",
      "display_name": "Python 3"
    },
    "language_info": {
      "name": "python"
    }
  },
  "cells": [
    {
      "cell_type": "markdown",
      "metadata": {
        "id": "view-in-github",
        "colab_type": "text"
      },
      "source": [
        "<a href=\"https://colab.research.google.com/github/vijayalathareddy/codsoft-intern/blob/main/Recommendation_System.ipynb\" target=\"_parent\"><img src=\"https://colab.research.google.com/assets/colab-badge.svg\" alt=\"Open In Colab\"/></a>"
      ]
    },
    {
      "cell_type": "code",
      "execution_count": 1,
      "metadata": {
        "colab": {
          "base_uri": "https://localhost:8080/"
        },
        "id": "ER1zbjnJ4uXG",
        "outputId": "5a2d7a56-266c-4973-9c1f-2986111fdb61"
      },
      "outputs": [
        {
          "output_type": "stream",
          "name": "stdout",
          "text": [
            "Recommended movies based on user preferences:\n",
            "Movie A\n"
          ]
        }
      ],
      "source": [
        "class Movie:\n",
        "    def __init__(self,title, genres):\n",
        "        self.title = title\n",
        "        self.genres = genres\n",
        "\n",
        "class RecommendationSystem:\n",
        "    def __init__(self,movies):\n",
        "        self.movies = movies\n",
        "\n",
        "    def recommend_movies(self, user_preferences):\n",
        "        recommended_movies = []\n",
        "        for movie in self.movies:\n",
        "            if any(genre in user_preferences for genre in movie.genres):\n",
        "                recommended_movies.append(movie.title)\n",
        "            return recommended_movies\n",
        "\n",
        "\n",
        "movies = [\n",
        "    Movie(\"Movie A\", [\"Action\", \"Adventure\", \"Sci-Fi\"]),\n",
        "    Movie(\"Movie B\", [\"Drama\", \"Romance\"]),\n",
        "    Movie(\"Movie C\", [\"Action\", \"Thriller\"]),\n",
        "    Movie(\"Movie D\", [\"Comedy\", \"Romance\"]),\n",
        "    Movie(\"Movie E\", [\"Horror\", \"Thriller\"]),\n",
        "]\n",
        "\n",
        "\n",
        "recommendation_system = RecommendationSystem(movies)\n",
        "\n",
        "\n",
        "user_preferences = [\"Action\", \"Adventure\", \"Sci-Fi\"]\n",
        "\n",
        "\n",
        "recommended_movies = recommendation_system.recommend_movies(user_preferences)\n",
        "\n",
        "\n",
        "print(\"Recommended movies based on user preferences:\")\n",
        "for movie in recommended_movies:\n",
        "    print(movie)"
      ]
    }
  ]
}